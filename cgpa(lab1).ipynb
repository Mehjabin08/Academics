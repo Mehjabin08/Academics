{
  "nbformat": 4,
  "nbformat_minor": 0,
  "metadata": {
    "colab": {
      "provenance": [],
      "authorship_tag": "ABX9TyNLzXtUYaRpcEvocDAdI+AL",
      "include_colab_link": true
    },
    "kernelspec": {
      "name": "python3",
      "display_name": "Python 3"
    },
    "language_info": {
      "name": "python"
    }
  },
  "cells": [
    {
      "cell_type": "markdown",
      "metadata": {
        "id": "view-in-github",
        "colab_type": "text"
      },
      "source": [
        "<a href=\"https://colab.research.google.com/github/Mehjabin08/Academics/blob/main/cgpa(lab1).ipynb\" target=\"_parent\"><img src=\"https://colab.research.google.com/assets/colab-badge.svg\" alt=\"Open In Colab\"/></a>"
      ]
    },
    {
      "cell_type": "code",
      "execution_count": null,
      "metadata": {
        "id": "6fYuuXUh7UqX"
      },
      "outputs": [],
      "source": [
        "from google.colab import drive\n",
        "drive.mount('/content/drive')"
      ]
    },
    {
      "cell_type": "code",
      "source": [
        "import pandas as pd\n"
      ],
      "metadata": {
        "id": "5_m7mZ7L8VA0"
      },
      "execution_count": 3,
      "outputs": []
    },
    {
      "cell_type": "code",
      "source": [
        "file_path='/content/drive/MyDrive/AI lab/AI(lab1).csv'\n",
        "csv=pd.read_csv(file_path)"
      ],
      "metadata": {
        "id": "0meFM6Ky9dgK"
      },
      "execution_count": 4,
      "outputs": []
    },
    {
      "cell_type": "code",
      "source": [],
      "metadata": {
        "id": "DEl84UgiAcs_"
      },
      "execution_count": null,
      "outputs": []
    },
    {
      "cell_type": "code",
      "source": [
        "print(csv.head(10))\n"
      ],
      "metadata": {
        "colab": {
          "base_uri": "https://localhost:8080/"
        },
        "id": "mkdUwUvc-1Ph",
        "outputId": "a52e7531-5e1b-4909-d022-1e1c1911bb22"
      },
      "execution_count": 5,
      "outputs": [
        {
          "output_type": "stream",
          "name": "stdout",
          "text": [
            "           ID              Name                      Course  Result  Semester\n",
            "0  23-50707-1  Mehjabin Mostafa      Artificial Intelligence     A+         7\n",
            "1  23-50708-1     Ayesha Rahman             Machine Learning      A         8\n",
            "2  23-50709-1      Tanvir Hasan                 Data Science     A+         8\n",
            "3  23-50710-1      Farhan Ahmed                Cybersecurity     B+         9\n",
            "4  23-50711-1      Nusrat Jahan                     Robotics      A         7\n",
            "5  23-50712-1     Imran Hossain              Computer Vision     A-         8\n",
            "6  23-50713-1     Sumaiya Akter              Neural Networks      B         9\n",
            "7  23-50714-1     Rakibul Islam                Deep Learning     A+         7\n",
            "8  23-50715-1    Shaila Ferdous  Natural Language Processing     B+         9\n",
            "9  23-50716-1     Zubair Mahmud         Software Engineering     A-         7\n"
          ]
        }
      ]
    }
  ]
}