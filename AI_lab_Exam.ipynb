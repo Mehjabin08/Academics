{
  "nbformat": 4,
  "nbformat_minor": 0,
  "metadata": {
    "colab": {
      "provenance": [],
      "authorship_tag": "ABX9TyMOzYspCc4L+mrNxKqyd3PV",
      "include_colab_link": true
    },
    "kernelspec": {
      "name": "python3",
      "display_name": "Python 3"
    },
    "language_info": {
      "name": "python"
    }
  },
  "cells": [
    {
      "cell_type": "markdown",
      "metadata": {
        "id": "view-in-github",
        "colab_type": "text"
      },
      "source": [
        "<a href=\"https://colab.research.google.com/github/Mehjabin08/Academics/blob/main/AI_lab_Exam.ipynb\" target=\"_parent\"><img src=\"https://colab.research.google.com/assets/colab-badge.svg\" alt=\"Open In Colab\"/></a>"
      ]
    },
    {
      "cell_type": "code",
      "source": [
        "from google.colab import drive\n",
        "drive.mount('/content/drive')"
      ],
      "metadata": {
        "colab": {
          "base_uri": "https://localhost:8080/"
        },
        "id": "I-734qReThZk",
        "outputId": "2c47beeb-8b21-4a4e-b855-4722b67efc85"
      },
      "execution_count": null,
      "outputs": [
        {
          "output_type": "stream",
          "name": "stdout",
          "text": [
            "Drive already mounted at /content/drive; to attempt to forcibly remount, call drive.mount(\"/content/drive\", force_remount=True).\n"
          ]
        }
      ]
    },
    {
      "cell_type": "code",
      "source": [
        "file_path = '/content/drive/MyDrive/AI lab/gas.csv'"
      ],
      "metadata": {
        "id": "sqN75dRwTlTM"
      },
      "execution_count": null,
      "outputs": []
    },
    {
      "cell_type": "code",
      "source": [
        "import pandas as pd"
      ],
      "metadata": {
        "id": "yJOU6lr1T0fZ"
      },
      "execution_count": null,
      "outputs": []
    },
    {
      "cell_type": "code",
      "source": [
        "file_path='/content/drive/MyDrive/AI lab/gas.csv'\n",
        "csv=pd.read_csv(file_path)"
      ],
      "metadata": {
        "id": "miy0MqnCUr3i"
      },
      "execution_count": null,
      "outputs": []
    },
    {
      "cell_type": "code",
      "source": [
        "\n",
        "df = pd.read_csv(file_path)\n",
        "\n",
        "\n",
        "print(df.info())\n",
        "print(df.describe())"
      ],
      "metadata": {
        "colab": {
          "base_uri": "https://localhost:8080/"
        },
        "id": "J_npT3WbU2aY",
        "outputId": "e7d31a3d-78a1-4198-f7ab-e90a9b40da89"
      },
      "execution_count": null,
      "outputs": [
        {
          "output_type": "stream",
          "name": "stdout",
          "text": [
            "<class 'pandas.core.frame.DataFrame'>\n",
            "RangeIndex: 1999 entries, 0 to 1998\n",
            "Data columns (total 2 columns):\n",
            " #   Column    Non-Null Count  Dtype  \n",
            "---  ------    --------------  -----  \n",
            " 0   LPG       1991 non-null   float64\n",
            " 1   \n",
            "Methane  1990 non-null   float64\n",
            "dtypes: float64(2)\n",
            "memory usage: 31.4 KB\n",
            "None\n",
            "               LPG    \\nMethane\n",
            "count  1991.000000  1990.000000\n",
            "mean      5.661979     9.198492\n",
            "std       2.865626     5.120695\n",
            "min       1.000000     1.000000\n",
            "25%       3.000000     5.000000\n",
            "50%       6.000000     9.000000\n",
            "75%       8.000000    14.000000\n",
            "max      10.000000    18.000000\n"
          ]
        }
      ]
    },
    {
      "cell_type": "code",
      "source": [
        "print(df.columns)\n"
      ],
      "metadata": {
        "colab": {
          "base_uri": "https://localhost:8080/"
        },
        "id": "SkUahetuVZhD",
        "outputId": "cedd30c0-e2e1-4a65-8ff4-039bdf40d061"
      },
      "execution_count": null,
      "outputs": [
        {
          "output_type": "stream",
          "name": "stdout",
          "text": [
            "Index(['LPG', '\\nMethane'], dtype='object')\n"
          ]
        }
      ]
    },
    {
      "cell_type": "code",
      "source": [
        "\n",
        "df.columns = df.columns.str.strip()\n",
        "\n",
        "\n",
        "print(df['Methane'])\n"
      ],
      "metadata": {
        "colab": {
          "base_uri": "https://localhost:8080/"
        },
        "id": "cSGlmcqJWOf-",
        "outputId": "a4c6d560-c75e-4e3d-8944-ac91bb506076"
      },
      "execution_count": null,
      "outputs": [
        {
          "output_type": "stream",
          "name": "stdout",
          "text": [
            "0       14.0\n",
            "1       14.0\n",
            "2       14.0\n",
            "3        1.0\n",
            "4       11.0\n",
            "        ... \n",
            "1994    12.0\n",
            "1995    17.0\n",
            "1996    17.0\n",
            "1997     1.0\n",
            "1998     6.0\n",
            "Name: Methane, Length: 1999, dtype: float64\n"
          ]
        }
      ]
    },
    {
      "cell_type": "code",
      "source": [
        "\n",
        "missing_lpg = df['LPG'].isnull().sum()\n",
        "missing_methane = df['Methane'].isnull().sum()\n",
        "\n",
        "print(\"Missing values in LPG:\", missing_lpg)\n",
        "print(\"Missing values in Methane:\", missing_methane)\n"
      ],
      "metadata": {
        "colab": {
          "base_uri": "https://localhost:8080/"
        },
        "id": "Sdwc7ABHXNgh",
        "outputId": "87851ff7-c762-40d9-b961-f36679aefc0b"
      },
      "execution_count": null,
      "outputs": [
        {
          "output_type": "stream",
          "name": "stdout",
          "text": [
            "Missing values in LPG: 8\n",
            "Missing values in Methane: 9\n"
          ]
        }
      ]
    },
    {
      "cell_type": "code",
      "source": [
        "def calculate_average(column_name):\n",
        "    return df[column_name].mean()\n",
        "\n",
        "avg_lpg = calculate_average('LPG')\n",
        "avg_methane = calculate_average('Methane')\n",
        "\n",
        "print(\"Average LPG:\", avg_lpg)\n",
        "print(\"Average Methane:\", avg_methane)\n"
      ],
      "metadata": {
        "colab": {
          "base_uri": "https://localhost:8080/"
        },
        "id": "lCc_wwYOXSo5",
        "outputId": "c4360a13-7086-4c6b-edd4-de44023dfa83"
      },
      "execution_count": null,
      "outputs": [
        {
          "output_type": "stream",
          "name": "stdout",
          "text": [
            "Average LPG: 5.661978905072828\n",
            "Average Methane: 9.198492462311558\n"
          ]
        }
      ]
    },
    {
      "cell_type": "code",
      "source": [
        "import seaborn as sns\n",
        "import matplotlib.pyplot as plt\n",
        "\n",
        "corr_matrix = df[['LPG', 'Methane']].corr()\n",
        "\n",
        "plt.figure(figsize=(8, 6))\n",
        "sns.heatmap(corr_matrix, annot=True, cmap='coolwarm', fmt='.2f')\n",
        "plt.title('Correlation Heatmap between LPG and Methane')\n",
        "plt.show()\n"
      ],
      "metadata": {
        "colab": {
          "base_uri": "https://localhost:8080/",
          "height": 549
        },
        "id": "IQcLE1x4XW3x",
        "outputId": "31222230-72f7-46a9-8e16-b9f84f7dd744"
      },
      "execution_count": null,
      "outputs": [
        {
          "output_type": "display_data",
          "data": {
            "text/plain": [
              "<Figure size 800x600 with 2 Axes>"
            ],
            "image/png": "[encoded data removed]"
          },
          "metadata": {}
        }
      ]
    },
    {
      "cell_type": "code",
      "source": [
        "low_lpg_count = (df['LPG'] < 4).sum()\n",
        "print(\"Number of LPG values below threshold 4:\", low_lpg_count)"
      ],
      "metadata": {
        "colab": {
          "base_uri": "https://localhost:8080/"
        },
        "id": "eOHgvzYtZr6O",
        "outputId": "60cdd282-c23b-4c5c-b02f-ce61d09471f6"
      },
      "execution_count": null,
      "outputs": [
        {
          "output_type": "stream",
          "name": "stdout",
          "text": [
            "Number of LPG values below threshold 4: 543\n"
          ]
        }
      ]
    }
  ]
}