{
  "nbformat": 4,
  "nbformat_minor": 0,
  "metadata": {
    "colab": {
      "provenance": [],
      "authorship_tag": "ABX9TyPOk/UzqQANHzDKRlxGqQQV",
      "include_colab_link": true
    },
    "kernelspec": {
      "name": "python3",
      "display_name": "Python 3"
    },
    "language_info": {
      "name": "python"
    }
  },
  "cells": [
    {
      "cell_type": "markdown",
      "metadata": {
        "id": "view-in-github",
        "colab_type": "text"
      },
      "source": [
        "<a href=\"https://colab.research.google.com/github/Mehjabin08/Academics/blob/main/Air_Quality_Model_train.ipynb\" target=\"_parent\"><img src=\"https://colab.research.google.com/assets/colab-badge.svg\" alt=\"Open In Colab\"/></a>"
      ]
    },
    {
      "cell_type": "code",
      "execution_count": null,
      "metadata": {
        "colab": {
          "base_uri": "https://localhost:8080/"
        },
        "id": "evAsdOpNRXRJ",
        "outputId": "1eeb3ddf-a1de-49cb-dec7-f82299479c06"
      },
      "outputs": [
        {
          "output_type": "stream",
          "name": "stdout",
          "text": [
            "Mounted at /content/drive\n"
          ]
        }
      ],
      "source": [
        "from google.colab import drive\n",
        "drive.mount('/content/drive')\n",
        "\n"
      ]
    },
    {
      "cell_type": "code",
      "source": [
        "import pandas as pd\n",
        "import pandas as pd\n",
        "from sklearn.model_selection import train_test_split\n",
        "from sklearn.ensemble import RandomForestClassifier\n",
        "from sklearn.metrics import accuracy_score, confusion_matrix, f1_score, precision_score, recall_score, classification_report, roc_curve, auc\n",
        "import seaborn as sns\n",
        "import matplotlib.pyplot as plt\n",
        "import numpy as np\n"
      ],
      "metadata": {
        "id": "Jmac1ItKTF5N"
      },
      "execution_count": null,
      "outputs": []
    },
    {
      "cell_type": "code",
      "source": [
        "file_path='/content/drive/MyDrive/AI lab/airquality (2).csv'\n",
        "csv=pd.read_csv(file_path)\n",
        "df=pd.DataFrame(csv)\n",
        "# Define harmful conditions based on given thresholds\n",
        "df['Harmful'] = ((df['PM2.5'] > 25) | (df['co2'] > 5000) |\n",
        "                 (df['no2'] > 200) | (df['so2'] > 500) |\n",
        "                 (df['o3'] > 180)).astype(int)\n",
        "\n",
        "# Define features and target variable\n",
        "X = df[['PM2.5', 'co2', 'no2', 'so2', 'o3']]\n",
        "y = df['Harmful']\n",
        "# Split data into training and testing sets (80% train, 20% test)\n",
        "X_train, X_test, y_train, y_test = train_test_split(X, y, test_size=0.2, random_state=42)\n",
        "\n",
        "# Train a RandomForestClassifier model\n",
        "model = RandomForestClassifier(n_estimators=100, random_state=42)\n",
        "history = model.fit(X_train, y_train)"
      ],
      "metadata": {
        "id": "8HwPjbHATP5-"
      },
      "execution_count": null,
      "outputs": []
    },
    {
      "cell_type": "code",
      "source": [
        "# Define harmful conditions based on given thresholds\n",
        "df['Harmful'] = ((df['PM2.5'] > 25) | (df['co2'] > 5000) |\n",
        "                 (df['no2'] > 200) | (df['so2'] > 500) |\n",
        "                 (df['o3'] > 180)).astype(int)\n",
        "                 # Display the entire DataFrame\n",
        "print(df)\n",
        "\n",
        "# OR display only the 'Harmful' column\n",
        "print(df['Harmful'])\n",
        "\n"
      ],
      "metadata": {
        "colab": {
          "base_uri": "https://localhost:8080/"
        },
        "id": "j29dG2ZyTiJH",
        "outputId": "8e8fc947-4750-4f7d-a1c5-616e18746e53"
      },
      "execution_count": null,
      "outputs": [
        {
          "output_type": "stream",
          "name": "stdout",
          "text": [
            "      PM2.5   co2  no2  so2   o3  Harmful\n",
            "0        25    40   40   40  180        0\n",
            "1        26  6286  145  201  157        1\n",
            "2        36  1970  152  336   76        1\n",
            "3        47  6837  150  382  210        1\n",
            "4        40  3979   39  373   84        1\n",
            "...     ...   ...  ...  ...  ...      ...\n",
            "3494      9  3116  180  269  161        0\n",
            "3495     45  6895  214  323   72        1\n",
            "3496      9  1154  245  190   70        1\n",
            "3497     15  5318   49  248   21        1\n",
            "3498     36  6210  274  306   50        1\n",
            "\n",
            "[3499 rows x 6 columns]\n",
            "0       0\n",
            "1       1\n",
            "2       1\n",
            "3       1\n",
            "4       1\n",
            "       ..\n",
            "3494    0\n",
            "3495    1\n",
            "3496    1\n",
            "3497    1\n",
            "3498    1\n",
            "Name: Harmful, Length: 3499, dtype: int64\n"
          ]
        }
      ]
    },
    {
      "cell_type": "code",
      "source": [
        "y_pred = model.predict(X_test)"
      ],
      "metadata": {
        "id": "r8U3j_vlV-Fz"
      },
      "execution_count": null,
      "outputs": []
    },
    {
      "cell_type": "code",
      "source": [
        "print(\"\\nClassification Report:\")\n",
        "print(classification_report(y_test, y_pred))"
      ],
      "metadata": {
        "colab": {
          "base_uri": "https://localhost:8080/"
        },
        "id": "BHGfJDfRWjnJ",
        "outputId": "25b9ef77-0181-4275-c882-52c9827e46c0"
      },
      "execution_count": null,
      "outputs": [
        {
          "output_type": "stream",
          "name": "stdout",
          "text": [
            "\n",
            "Classification Report:\n",
            "              precision    recall  f1-score   support\n",
            "\n",
            "           0       1.00      0.98      0.99       124\n",
            "           1       1.00      1.00      1.00       576\n",
            "\n",
            "    accuracy                           1.00       700\n",
            "   macro avg       1.00      0.99      1.00       700\n",
            "weighted avg       1.00      1.00      1.00       700\n",
            "\n"
          ]
        }
      ]
    },
    {
      "cell_type": "code",
      "source": [
        "# Predict on test set and calculate accuracy\n",
        "y_pred = model.predict(X_test)\n",
        "y_pred_prob = model.predict_proba(X_test)[:, 1]\n",
        "accuracy = accuracy_score(y_test, y_pred)\n",
        "precision = precision_score(y_test, y_pred)\n",
        "recall = recall_score(y_test, y_pred)\n",
        "f1 = f1_score(y_test, y_pred)"
      ],
      "metadata": {
        "id": "j5FHswboSUtN"
      },
      "execution_count": null,
      "outputs": []
    },
    {
      "cell_type": "code",
      "source": [
        "from sklearn.metrics import classification_report, accuracy_score, precision_score, recall_score, f1_score, roc_auc_score\n",
        "\n",
        "# Evaluate the model\n",
        "accuracy = accuracy_score(y_test, y_pred)\n",
        "precision = precision_score(y_test, y_pred)\n",
        "recall = recall_score(y_test, y_pred)\n",
        "f1 = f1_score(y_test, y_pred)\n",
        "roc_auc = roc_auc_score(y_test, y_pred)  # <- This was missing\n",
        "\n",
        "# Print classification report\n",
        "print(\"\\nClassification Report:\")\n",
        "print(classification_report(y_test, y_pred))\n",
        "\n",
        "print(f\"Model Accuracy: {accuracy:.2f}\")\n",
        "print(f\"Precision: {precision:.2f}\")\n",
        "print(f\"Recall: {recall:.2f}\")\n",
        "print(f\"F1 Score: {f1:.2f}\")\n",
        "print(f\"ROC AUC Score: {roc_auc:.2f}\")\n"
      ],
      "metadata": {
        "colab": {
          "base_uri": "https://localhost:8080/"
        },
        "id": "ZXt0g1yvT7XK",
        "outputId": "58441c7b-4441-47f1-a380-365022694f41"
      },
      "execution_count": null,
      "outputs": [
        {
          "output_type": "stream",
          "name": "stdout",
          "text": [
            "\n",
            "Classification Report:\n",
            "              precision    recall  f1-score   support\n",
            "\n",
            "           0       1.00      0.98      0.99       124\n",
            "           1       1.00      1.00      1.00       576\n",
            "\n",
            "    accuracy                           1.00       700\n",
            "   macro avg       1.00      0.99      1.00       700\n",
            "weighted avg       1.00      1.00      1.00       700\n",
            "\n",
            "Model Accuracy: 1.00\n",
            "Precision: 1.00\n",
            "Recall: 1.00\n",
            "F1 Score: 1.00\n",
            "ROC AUC Score: 0.99\n"
          ]
        }
      ]
    },
    {
      "cell_type": "code",
      "source": [],
      "metadata": {
        "id": "Lm2Hl5_VUjUt"
      },
      "execution_count": null,
      "outputs": []
    }
  ]
}