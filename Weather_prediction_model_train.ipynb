{
  "nbformat": 4,
  "nbformat_minor": 0,
  "metadata": {
    "colab": {
      "provenance": [],
      "authorship_tag": "ABX9TyN+UN6HmMx6kY88tsqs/JJH",
      "include_colab_link": true
    },
    "kernelspec": {
      "name": "python3",
      "display_name": "Python 3"
    },
    "language_info": {
      "name": "python"
    }
  },
  "cells": [
    {
      "cell_type": "markdown",
      "metadata": {
        "id": "view-in-github",
        "colab_type": "text"
      },
      "source": [
        "<a href=\"https://colab.research.google.com/github/Mehjabin08/Academics/blob/main/Weather_prediction_model_train.ipynb\" target=\"_parent\"><img src=\"https://colab.research.google.com/assets/colab-badge.svg\" alt=\"Open In Colab\"/></a>"
      ]
    },
    {
      "cell_type": "code",
      "execution_count": null,
      "metadata": {
        "id": "SUwkMHLyW4xW"
      },
      "outputs": [],
      "source": [
        "from google.colab import drive\n",
        "\n"
      ]
    },
    {
      "cell_type": "code",
      "source": [
        "\n",
        "drive.mount('/content/drive')\n"
      ],
      "metadata": {
        "colab": {
          "base_uri": "https://localhost:8080/"
        },
        "id": "qC40TRYWZMNU",
        "outputId": "5a8cbb26-7ba2-4a37-d88f-ef53a143b9cb"
      },
      "execution_count": null,
      "outputs": [
        {
          "output_type": "stream",
          "name": "stdout",
          "text": [
            "Mounted at /content/drive\n"
          ]
        }
      ]
    },
    {
      "cell_type": "code",
      "source": [
        "\n",
        "from google.colab import drive\n",
        "drive.mount('/content/drive')\n",
        "import pandas as pd\n",
        "import pandas as pd\n",
        "from sklearn.model_selection import train_test_split\n",
        "from sklearn.ensemble import RandomForestClassifier\n",
        "from sklearn.metrics import accuracy_score, confusion_matrix, f1_score, precision_score, recall_score, classification_report, roc_curve, auc\n",
        "import seaborn as sns\n",
        "import matplotlib.pyplot as plt\n",
        "import numpy as np\n"
      ],
      "metadata": {
        "colab": {
          "base_uri": "https://localhost:8080/"
        },
        "id": "vxcYEdUqZmS7",
        "outputId": "1a9dad4b-d2a4-4a63-e0c1-a415b532e7e2"
      },
      "execution_count": null,
      "outputs": [
        {
          "output_type": "stream",
          "name": "stdout",
          "text": [
            "Drive already mounted at /content/drive; to attempt to forcibly remount, call drive.mount(\"/content/drive\", force_remount=True).\n"
          ]
        }
      ]
    },
    {
      "cell_type": "code",
      "source": [
        "import pandas as pd\n",
        "from sklearn.model_selection import train_test_split\n",
        "from sklearn.ensemble import RandomForestRegressor\n",
        "from sklearn.metrics import mean_absolute_error, mean_squared_error, r2_score\n",
        "import numpy as np\n",
        "\n",
        "# Step 1: Load the dataset\n",
        "file_path = '/content/drive/MyDrive/AI lab/weather_prediction_dataset.csv'\n",
        "df = pd.read_csv(file_path)\n",
        "\n",
        "# Step 2: Drop rows with missing values (optional but useful for clean training)\n",
        "df.dropna(inplace=True)\n",
        "\n",
        "# Step 3: Predict next day's temperature for BASEL\n",
        "# Shift BASEL_temp_mean to create \"tomorrow's\" target\n",
        "df['BASEL_temp_mean_next'] = df['BASEL_temp_mean'].shift(-1)\n",
        "\n",
        "# Remove the last row since it now has a NaN target\n",
        "df = df[:-1]\n",
        "\n",
        "# Step 4: Define features and target\n",
        "X = df.drop(columns=['BASEL_temp_mean_next'])  # all columns except the target\n",
        "y = df['BASEL_temp_mean_next']\n",
        "\n",
        "# Step 5: Train-test split\n",
        "X_train, X_test, y_train, y_test = train_test_split(X, y, test_size=0.2, random_state=42)\n",
        "\n",
        "# Step 6: Train the model\n",
        "model = RandomForestRegressor(n_estimators=100, random_state=42)\n",
        "model.fit(X_train, y_train)\n",
        "\n",
        "# Step 7: Predict and evaluate\n",
        "y_pred = model.predict(X_test)\n",
        "\n",
        "mae = mean_absolute_error(y_test, y_pred)\n",
        "rmse = np.sqrt(mean_squared_error(y_test, y_pred))\n",
        "r2 = r2_score(y_test, y_pred)\n",
        "\n",
        "print(\"Model Performance:\")\n",
        "print(f\"MAE: {mae:.2f}\")\n",
        "print(f\"RMSE: {rmse:.2f}\")\n",
        "print(f\"R² Score: {r2:.2f}\")\n",
        "\n"
      ],
      "metadata": {
        "colab": {
          "base_uri": "https://localhost:8080/"
        },
        "id": "0EwiWFKDZ_Pw",
        "outputId": "4c7599ed-db8d-4def-bbd2-b52f4e4e2988"
      },
      "execution_count": null,
      "outputs": [
        {
          "output_type": "stream",
          "name": "stdout",
          "text": [
            "Model Performance:\n",
            "MAE: 1.36\n",
            "RMSE: 1.79\n",
            "R² Score: 0.94\n"
          ]
        }
      ]
    },
    {
      "cell_type": "code",
      "source": [
        "import pandas as pd\n",
        "from sklearn.model_selection import train_test_split\n",
        "from sklearn.ensemble import RandomForestClassifier\n",
        "from sklearn.metrics import accuracy_score, precision_score, recall_score, f1_score, classification_report, roc_auc_score\n",
        "\n",
        "# Load your dataset\n",
        "file_path = '/content/drive/MyDrive/AI lab/weather_prediction_dataset.csv'\n",
        "df = pd.read_csv(file_path)\n",
        "\n",
        "# Example: create tomorrow's harmful label based on tomorrow's features shifted from today's rows\n",
        "# Here, assuming harmful if tomorrow's precipitation (BASEL_precipitation) > 1.0 mm or temp_max < 5 Celsius (example thresholds)\n",
        "df['Harmful_Tomorrow'] = ((df['BASEL_precipitation'].shift(-1) > 1.0) | (df['BASEL_temp_max'].shift(-1) < 5)).astype(int)\n",
        "\n",
        "# Drop last row as it will have NaN after shifting\n",
        "df = df.dropna()\n",
        "\n",
        "# Select features to predict tomorrow's weather - today's weather features\n",
        "feature_cols = ['BASEL_cloud_cover', 'BASEL_humidity', 'BASEL_pressure', 'BASEL_global_radiation',\n",
        "                'BASEL_precipitation', 'BASEL_sunshine', 'BASEL_temp_mean', 'BASEL_temp_min', 'BASEL_temp_max']\n",
        "\n",
        "X = df[feature_cols]\n",
        "y = df['Harmful_Tomorrow']\n",
        "\n",
        "# Split dataset to training and testing sets\n",
        "X_train, X_test, y_train, y_test = train_test_split(X, y, test_size=0.2, random_state=42)\n",
        "\n",
        "# Train Random Forest Classifier\n",
        "model = RandomForestClassifier(n_estimators=100, random_state=42)\n",
        "model.fit(X_train, y_train)\n",
        "\n",
        "# Predict on test data\n",
        "y_pred = model.predict(X_test)\n",
        "y_pred_prob = model.predict_proba(X_test)[:, 1]\n",
        "\n",
        "# Evaluation metrics\n",
        "accuracy = accuracy_score(y_test, y_pred)\n",
        "precision = precision_score(y_test, y_pred)\n",
        "recall = recall_score(y_test, y_pred)\n",
        "f1 = f1_score(y_test, y_pred)\n",
        "roc_auc = roc_auc_score(y_test, y_pred_prob)\n",
        "\n",
        "print(\"Model Evaluation:\")\n",
        "print(f\"Accuracy: {accuracy:.2f}\")\n",
        "print(f\"Precision: {precision:.2f}\")\n",
        "print(f\"Recall: {recall:.2f}\")\n",
        "print(f\"F1 Score: {f1:.2f}\")\n",
        "print(f\"ROC AUC Score: {roc_auc:.2f}\")\n",
        "print(\"\\nClassification Report:\")\n",
        "print(classification_report(y_test, y_pred))\n"
      ],
      "metadata": {
        "colab": {
          "base_uri": "https://localhost:8080/"
        },
        "id": "_dDXNhkfdD1v",
        "outputId": "4a76cd4c-1bba-45b1-f617-9ade6d7097ed"
      },
      "execution_count": null,
      "outputs": [
        {
          "output_type": "stream",
          "name": "stdout",
          "text": [
            "Model Evaluation:\n",
            "Accuracy: 0.88\n",
            "Precision: 0.82\n",
            "Recall: 0.54\n",
            "F1 Score: 0.65\n",
            "ROC AUC Score: 0.81\n",
            "\n",
            "Classification Report:\n",
            "              precision    recall  f1-score   support\n",
            "\n",
            "           0       0.89      0.97      0.93       583\n",
            "           1       0.82      0.54      0.65       148\n",
            "\n",
            "    accuracy                           0.88       731\n",
            "   macro avg       0.86      0.76      0.79       731\n",
            "weighted avg       0.88      0.88      0.87       731\n",
            "\n"
          ]
        }
      ]
    },
    {
      "cell_type": "code",
      "source": [
        "from sklearn.ensemble import RandomForestClassifier\n",
        "\n",
        "model = RandomForestClassifier(class_weight='balanced', random_state=42)\n"
      ],
      "metadata": {
        "id": "0TcdyKa-iXu4"
      },
      "execution_count": null,
      "outputs": []
    },
    {
      "cell_type": "code",
      "source": [
        "# Step 1: Train the model first\n",
        "model.fit(X_train, y_train)\n",
        "\n",
        "# Step 2: Then make predictions\n",
        "y_proba = model.predict_proba(X_test)[:, 1]\n",
        "y_pred = (y_proba >= 0.3).astype(int)  # Lower threshold to improve recall\n"
      ],
      "metadata": {
        "id": "un-tGvydjBQ4"
      },
      "execution_count": null,
      "outputs": []
    },
    {
      "cell_type": "code",
      "source": [
        "from imblearn.over_sampling import SMOTE\n",
        "\n",
        "sm = SMOTE(random_state=42)\n",
        "X_resampled, y_resampled = sm.fit_resample(X_train, y_train)\n"
      ],
      "metadata": {
        "id": "S04Q2RV9jppZ"
      },
      "execution_count": null,
      "outputs": []
    },
    {
      "cell_type": "code",
      "source": [
        "# Count the number of samples in each class\n",
        "count_of_class_0 = sum(y_train == 0)  # Not harmful\n",
        "count_of_class_1 = sum(y_train == 1)  # Harmful\n",
        "from xgboost import XGBClassifier\n",
        "\n",
        "model = XGBClassifier(scale_pos_weight=(count_of_class_0 / count_of_class_1), use_label_encoder=False, eval_metric='logloss')\n"
      ],
      "metadata": {
        "id": "YxK430Ktju4g"
      },
      "execution_count": null,
      "outputs": []
    },
    {
      "cell_type": "code",
      "source": [
        "# 1. Count class distribution\n",
        "count_of_class_0 = sum(y_train == 0)  # Non-harmful class\n",
        "count_of_class_1 = sum(y_train == 1)  # Harmful class\n",
        "\n",
        "# 2. Initialize XGBoost model with class weight balancing\n",
        "model = XGBClassifier(\n",
        "    scale_pos_weight=(count_of_class_0 / count_of_class_1),  # Tells model to penalize minority class more\n",
        "    use_label_encoder=False,\n",
        "    eval_metric='logloss'\n",
        ")\n",
        "\n",
        "# 3. Train the model\n",
        "model.fit(X_train, y_train)\n",
        "\n",
        "# 4. Get predicted probabilities for the positive (harmful) class\n",
        "y_proba = model.predict_proba(X_test)[:, 1]  # Column 1 = class 1 probability\n",
        "\n",
        "# 5. Apply a lower threshold to boost recall for harmful class\n",
        "y_pred = (y_proba >= 0.3).astype(int)  # Predict harmful if probability ≥ 0.3\n"
      ],
      "metadata": {
        "colab": {
          "base_uri": "https://localhost:8080/"
        },
        "id": "D4436gVvkjSD",
        "outputId": "a49bc55b-ca02-4234-bd27-a98d82df4def"
      },
      "execution_count": null,
      "outputs": [
        {
          "output_type": "stream",
          "name": "stderr",
          "text": [
            "/usr/local/lib/python3.11/dist-packages/xgboost/core.py:158: UserWarning: [06:14:20] WARNING: /workspace/src/learner.cc:740: \n",
            "Parameters: { \"use_label_encoder\" } are not used.\n",
            "\n",
            "  warnings.warn(smsg, UserWarning)\n"
          ]
        }
      ]
    },
    {
      "cell_type": "code",
      "source": [
        "from sklearn.metrics import classification_report\n",
        "\n",
        "print(classification_report(y_test, y_pred))\n"
      ],
      "metadata": {
        "colab": {
          "base_uri": "https://localhost:8080/"
        },
        "id": "gMyqSK_ZlHWc",
        "outputId": "bf582d01-81a9-4141-9245-10fd8e9aa6da"
      },
      "execution_count": null,
      "outputs": [
        {
          "output_type": "stream",
          "name": "stdout",
          "text": [
            "              precision    recall  f1-score   support\n",
            "\n",
            "           0       0.91      0.89      0.90       583\n",
            "           1       0.60      0.64      0.62       148\n",
            "\n",
            "    accuracy                           0.84       731\n",
            "   macro avg       0.75      0.77      0.76       731\n",
            "weighted avg       0.85      0.84      0.84       731\n",
            "\n"
          ]
        }
      ]
    },
    {
      "cell_type": "code",
      "source": [
        "from sklearn.ensemble import RandomForestClassifier\n",
        "from sklearn.metrics import classification_report\n",
        "import numpy as np\n",
        "\n",
        "# 1. Train the Random Forest model\n",
        "rf_model = RandomForestClassifier(n_estimators=100, class_weight='balanced', random_state=42)\n",
        "rf_model.fit(X_train, y_train)\n",
        "\n",
        "# 2. Predict probabilities for test set\n",
        "y_proba = rf_model.predict_proba(X_test)[:, 1]\n",
        "\n",
        "# 3. Adjust threshold to improve recall for class 1 (harmful)\n",
        "threshold = 0.3  # You can try 0.25, 0.35, etc.\n",
        "y_pred = (y_proba >= threshold).astype(int)\n",
        "\n",
        "# 4. Evaluate the model\n",
        "print(classification_report(y_test, y_pred))\n"
      ],
      "metadata": {
        "colab": {
          "base_uri": "https://localhost:8080/"
        },
        "id": "6puusuBsoRmT",
        "outputId": "cf928cb0-ad0f-4fbd-affe-6aac07416aff"
      },
      "execution_count": null,
      "outputs": [
        {
          "output_type": "stream",
          "name": "stdout",
          "text": [
            "              precision    recall  f1-score   support\n",
            "\n",
            "           0       0.90      0.92      0.91       583\n",
            "           1       0.65      0.61      0.63       148\n",
            "\n",
            "    accuracy                           0.85       731\n",
            "   macro avg       0.78      0.76      0.77       731\n",
            "weighted avg       0.85      0.85      0.85       731\n",
            "\n"
          ]
        }
      ]
    },
    {
      "cell_type": "code",
      "source": [
        "from sklearn.model_selection import GridSearchCV\n",
        "\n",
        "param_grid = {\n",
        "    'n_estimators': [100, 200],\n",
        "    'max_depth': [10, 20, None],\n",
        "    'min_samples_split': [2, 5],\n",
        "    'class_weight': ['balanced']\n",
        "}\n",
        "\n",
        "grid_search = GridSearchCV(RandomForestClassifier(random_state=42), param_grid, cv=3, scoring='recall')\n",
        "grid_search.fit(X_train, y_train)\n",
        "print(grid_search.best_params_)\n"
      ],
      "metadata": {
        "id": "JnwJeobCobr3"
      },
      "execution_count": null,
      "outputs": []
    }
  ]
}