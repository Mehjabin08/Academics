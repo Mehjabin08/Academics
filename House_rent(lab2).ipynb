{
  "nbformat": 4,
  "nbformat_minor": 0,
  "metadata": {
    "colab": {
      "provenance": [],
      "authorship_tag": "ABX9TyNqek2ShkPgCzuecFXpzBD+",
      "include_colab_link": true
    },
    "kernelspec": {
      "name": "python3",
      "display_name": "Python 3"
    },
    "language_info": {
      "name": "python"
    }
  },
  "cells": [
    {
      "cell_type": "markdown",
      "metadata": {
        "id": "view-in-github",
        "colab_type": "text"
      },
      "source": [
        "<a href=\"https://colab.research.google.com/github/Mehjabin08/Academics/blob/main/House_rent(lab2).ipynb\" target=\"_parent\"><img src=\"https://colab.research.google.com/assets/colab-badge.svg\" alt=\"Open In Colab\"/></a>"
      ]
    },
    {
      "cell_type": "code",
      "execution_count": null,
      "metadata": {
        "colab": {
          "base_uri": "https://localhost:8080/"
        },
        "id": "x2KPvL5_P0jd",
        "outputId": "9fe0df48-c069-4478-c3a6-a0f3355f3e3d"
      },
      "outputs": [
        {
          "output_type": "stream",
          "name": "stdout",
          "text": [
            "Mounted at /content/drive\n"
          ]
        }
      ],
      "source": [
        "from google.colab import drive\n",
        "drive.mount('/content/drive')"
      ]
    },
    {
      "cell_type": "code",
      "source": [
        "import pandas as pd\n",
        "file_path = \"/content/drive/MyDrive/AI lab/house_rent_data.csv\"\n",
        "df = pd.read_csv(file_path)\n"
      ],
      "metadata": {
        "id": "yVryGnHBQLGC"
      },
      "execution_count": null,
      "outputs": []
    },
    {
      "cell_type": "code",
      "source": [
        "print(df.head(50))\n"
      ],
      "metadata": {
        "colab": {
          "base_uri": "https://localhost:8080/"
        },
        "id": "HE4GTnJeQbOT",
        "outputId": "d7e7aea8-5ca0-4b25-e90d-32204eb90eee"
      },
      "execution_count": null,
      "outputs": [
        {
          "output_type": "stream",
          "name": "stdout",
          "text": [
            "    BHK   Rent  Size         Floor    Area Type          Area Locality  \\\n",
            "0     1   6561   846    5 out of 2   Build Area       Sector 11, Dhaka   \n",
            "1     5  46145  1482    8 out of 2   Build Area      Sector 37, Sylhet   \n",
            "2     5  14317  1170   10 out of 7  Carpet Area      Sector 41, Sylhet   \n",
            "3     4   9091  2013   7 out of 11   Build Area  Sector 38, Chattogram   \n",
            "4     2  27281  2728   6 out of 13  Carpet Area   Sector 4, Chattogram   \n",
            "5     5  15484  2797   9 out of 10   Build Area      Sector 19, Sylhet   \n",
            "6     3  36198  2820    2 out of 8  Carpet Area       Sector 28, Dhaka   \n",
            "7     3  36793  2532    6 out of 8   Build Area      Sector 17, Sylhet   \n",
            "8     3  11674  1739   3 out of 18   Build Area       Sector 44, Dhaka   \n",
            "9     5  48721   806    4 out of 4  Carpet Area    Sector 10, Rajshahi   \n",
            "10    2  10529  1678   6 out of 11   Super Area    Sector 43, Rajshahi   \n",
            "11    3  12634   878  10 out of 14   Super Area      Sector 35, Sylhet   \n",
            "12    2  42024  1075   1 out of 16   Build Area      Sector 22, Khulna   \n",
            "13    4   7261  1365    4 out of 9  Carpet Area  Sector 21, Chattogram   \n",
            "14    3  30082  2240   8 out of 11   Super Area       Sector 46, Dhaka   \n",
            "15    1  18823  1671    9 out of 6   Build Area    Sector 20, Rajshahi   \n",
            "16    1  35600  2636    2 out of 7   Super Area      Sector 12, Sylhet   \n",
            "17    1  36153   808   7 out of 13   Super Area    Sector 35, Rajshahi   \n",
            "18    5  12699  1172    4 out of 8  Carpet Area  Sector 17, Chattogram   \n",
            "19    2  18700  2283  10 out of 14   Super Area    Sector 42, Rajshahi   \n",
            "20    5  21038  2791   4 out of 15   Build Area      Sector 40, Khulna   \n",
            "21    1  39233  2139   5 out of 11   Build Area     Sector 4, Rajshahi   \n",
            "22    5  38613   618    9 out of 7   Super Area      Sector 50, Khulna   \n",
            "23    4   8292  2455   6 out of 19   Super Area      Sector 20, Sylhet   \n",
            "24    2  34539   688    2 out of 7   Build Area    Sector 21, Rajshahi   \n",
            "25    1  13907  2364   1 out of 18   Super Area        Sector 3, Dhaka   \n",
            "26    1  37000  2380    4 out of 4  Carpet Area    Sector 46, Rajshahi   \n",
            "27    2  16322   557   4 out of 12   Build Area  Sector 26, Chattogram   \n",
            "28    2  24578  1019    2 out of 7   Build Area   Sector 6, Chattogram   \n",
            "29    2   8143  1647   0 out of 18   Super Area      Sector 41, Khulna   \n",
            "30    4  44078   711    3 out of 7   Build Area    Sector 45, Rajshahi   \n",
            "31    5  40455   665  10 out of 19   Build Area     Sector 1, Rajshahi   \n",
            "32    1  12897  1741   8 out of 19   Build Area  Sector 41, Chattogram   \n",
            "33    5  34051   954    2 out of 6   Build Area      Sector 40, Sylhet   \n",
            "34    1   7134  1341    5 out of 3   Build Area       Sector 7, Khulna   \n",
            "35    5  21853  2941   1 out of 19   Super Area    Sector 38, Rajshahi   \n",
            "36    3  38480  1715    9 out of 7   Super Area       Sector 42, Dhaka   \n",
            "37    2  23393  1632   9 out of 13   Build Area      Sector 12, Sylhet   \n",
            "38    5  43658  1266    1 out of 7   Build Area       Sector 26, Dhaka   \n",
            "39    2  11029   710   9 out of 16  Carpet Area       Sector 46, Dhaka   \n",
            "40    3  11169   854   7 out of 20   Super Area       Sector 5, Sylhet   \n",
            "41    3  18992   934   6 out of 20   Super Area      Sector 42, Khulna   \n",
            "42    2  25025  2798   7 out of 10   Build Area    Sector 40, Rajshahi   \n",
            "43    2  17184   586   1 out of 12   Build Area    Sector 42, Rajshahi   \n",
            "44    3   5145  1127   10 out of 5  Carpet Area   Sector 3, Chattogram   \n",
            "45    3  32736  1595    9 out of 8   Super Area     Sector 9, Rajshahi   \n",
            "46    2  15876  1147   9 out of 12  Carpet Area       Sector 3, Khulna   \n",
            "47    4  12253  1180    8 out of 6   Super Area       Sector 27, Dhaka   \n",
            "48    3   9552  2143   7 out of 11   Build Area      Sector 17, Khulna   \n",
            "49    4  13767  2451   5 out of 17  Carpet Area       Sector 7, Sylhet   \n",
            "\n",
            "          City Furnishing Status Tenant Preferred  Bathroom Point of Contact  \n",
            "0       Khulna    Semi-Furnished          Company         2          Builder  \n",
            "1       Sylhet       Unfurnished          Company         3          Builder  \n",
            "2       Khulna    Semi-Furnished           Family         2          Builder  \n",
            "3       Khulna    Semi-Furnished          Company         2            Agent  \n",
            "4   Chattogram       Unfurnished          Company         2          Builder  \n",
            "5   Chattogram    Semi-Furnished           Family         3            Owner  \n",
            "6     Rajshahi         Furnished           Family         2          Builder  \n",
            "7       Khulna         Furnished          Company         1            Owner  \n",
            "8        Dhaka    Semi-Furnished           Family         4            Owner  \n",
            "9     Rajshahi    Semi-Furnished         Bachelor         4            Agent  \n",
            "10       Dhaka         Furnished          Company         2            Agent  \n",
            "11  Chattogram       Unfurnished           Family         4            Owner  \n",
            "12  Chattogram         Furnished          Company         3          Builder  \n",
            "13      Sylhet       Unfurnished          Company         4          Builder  \n",
            "14      Sylhet    Semi-Furnished           Family         1            Owner  \n",
            "15    Rajshahi       Unfurnished           Family         1            Owner  \n",
            "16  Chattogram    Semi-Furnished           Family         2            Agent  \n",
            "17  Chattogram       Unfurnished           Family         1            Owner  \n",
            "18      Khulna         Furnished         Bachelor         3          Builder  \n",
            "19       Dhaka    Semi-Furnished          Company         3            Agent  \n",
            "20    Rajshahi       Unfurnished         Bachelor         4            Owner  \n",
            "21      Sylhet       Unfurnished         Bachelor         4          Builder  \n",
            "22  Chattogram         Furnished          Company         1            Owner  \n",
            "23    Rajshahi         Furnished          Company         1          Builder  \n",
            "24      Khulna         Furnished          Company         3          Builder  \n",
            "25      Khulna         Furnished           Family         1            Agent  \n",
            "26      Khulna       Unfurnished          Company         3            Agent  \n",
            "27    Rajshahi         Furnished          Company         3            Owner  \n",
            "28      Sylhet         Furnished         Bachelor         3          Builder  \n",
            "29  Chattogram    Semi-Furnished         Bachelor         1          Builder  \n",
            "30       Dhaka         Furnished         Bachelor         4            Owner  \n",
            "31      Khulna    Semi-Furnished          Company         2            Owner  \n",
            "32       Dhaka         Furnished         Bachelor         2          Builder  \n",
            "33      Sylhet    Semi-Furnished          Company         3            Agent  \n",
            "34      Sylhet         Furnished          Company         2          Builder  \n",
            "35  Chattogram         Furnished          Company         1            Agent  \n",
            "36  Chattogram       Unfurnished           Family         1            Owner  \n",
            "37  Chattogram       Unfurnished          Company         1          Builder  \n",
            "38      Khulna       Unfurnished           Family         1            Agent  \n",
            "39       Dhaka         Furnished           Family         1          Builder  \n",
            "40       Dhaka       Unfurnished          Company         2          Builder  \n",
            "41      Sylhet    Semi-Furnished           Family         4            Owner  \n",
            "42      Khulna    Semi-Furnished         Bachelor         4            Agent  \n",
            "43  Chattogram    Semi-Furnished           Family         2            Agent  \n",
            "44  Chattogram    Semi-Furnished          Company         4            Owner  \n",
            "45      Khulna         Furnished           Family         1          Builder  \n",
            "46      Khulna       Unfurnished         Bachelor         3            Agent  \n",
            "47       Dhaka         Furnished           Family         1            Agent  \n",
            "48  Chattogram       Unfurnished          Company         4            Agent  \n",
            "49      Khulna         Furnished           Family         2            Owner  \n"
          ]
        }
      ]
    },
    {
      "cell_type": "code",
      "source": [
        "print(df.isnull().sum())  # Check missing values in each column\n"
      ],
      "metadata": {
        "colab": {
          "base_uri": "https://localhost:8080/"
        },
        "id": "VfRS-j4sQjim",
        "outputId": "58a40cfc-1acf-4fda-c80d-c92a423304a9"
      },
      "execution_count": null,
      "outputs": [
        {
          "output_type": "stream",
          "name": "stdout",
          "text": [
            "BHK                  0\n",
            "Rent                 0\n",
            "Size                 0\n",
            "Floor                0\n",
            "Area Type            0\n",
            "Area Locality        0\n",
            "City                 0\n",
            "Furnishing Status    0\n",
            "Tenant Preferred     0\n",
            "Bathroom             0\n",
            "Point of Contact     0\n",
            "dtype: int64\n"
          ]
        }
      ]
    },
    {
      "cell_type": "code",
      "source": [
        "df_cleaned = df.dropna()  # Drops rows with missing values\n",
        "print(df_cleaned.head(50))  # Print 50 rows after cleaning\n"
      ],
      "metadata": {
        "colab": {
          "base_uri": "https://localhost:8080/"
        },
        "id": "4iVprTYDQvoB",
        "outputId": "c34d7dd5-058b-4f3a-a564-52eb0fbdd0b5"
      },
      "execution_count": null,
      "outputs": [
        {
          "output_type": "stream",
          "name": "stdout",
          "text": [
            "    BHK   Rent  Size         Floor    Area Type          Area Locality  \\\n",
            "0     1   6561   846    5 out of 2   Build Area       Sector 11, Dhaka   \n",
            "1     5  46145  1482    8 out of 2   Build Area      Sector 37, Sylhet   \n",
            "2     5  14317  1170   10 out of 7  Carpet Area      Sector 41, Sylhet   \n",
            "3     4   9091  2013   7 out of 11   Build Area  Sector 38, Chattogram   \n",
            "4     2  27281  2728   6 out of 13  Carpet Area   Sector 4, Chattogram   \n",
            "5     5  15484  2797   9 out of 10   Build Area      Sector 19, Sylhet   \n",
            "6     3  36198  2820    2 out of 8  Carpet Area       Sector 28, Dhaka   \n",
            "7     3  36793  2532    6 out of 8   Build Area      Sector 17, Sylhet   \n",
            "8     3  11674  1739   3 out of 18   Build Area       Sector 44, Dhaka   \n",
            "9     5  48721   806    4 out of 4  Carpet Area    Sector 10, Rajshahi   \n",
            "10    2  10529  1678   6 out of 11   Super Area    Sector 43, Rajshahi   \n",
            "11    3  12634   878  10 out of 14   Super Area      Sector 35, Sylhet   \n",
            "12    2  42024  1075   1 out of 16   Build Area      Sector 22, Khulna   \n",
            "13    4   7261  1365    4 out of 9  Carpet Area  Sector 21, Chattogram   \n",
            "14    3  30082  2240   8 out of 11   Super Area       Sector 46, Dhaka   \n",
            "15    1  18823  1671    9 out of 6   Build Area    Sector 20, Rajshahi   \n",
            "16    1  35600  2636    2 out of 7   Super Area      Sector 12, Sylhet   \n",
            "17    1  36153   808   7 out of 13   Super Area    Sector 35, Rajshahi   \n",
            "18    5  12699  1172    4 out of 8  Carpet Area  Sector 17, Chattogram   \n",
            "19    2  18700  2283  10 out of 14   Super Area    Sector 42, Rajshahi   \n",
            "20    5  21038  2791   4 out of 15   Build Area      Sector 40, Khulna   \n",
            "21    1  39233  2139   5 out of 11   Build Area     Sector 4, Rajshahi   \n",
            "22    5  38613   618    9 out of 7   Super Area      Sector 50, Khulna   \n",
            "23    4   8292  2455   6 out of 19   Super Area      Sector 20, Sylhet   \n",
            "24    2  34539   688    2 out of 7   Build Area    Sector 21, Rajshahi   \n",
            "25    1  13907  2364   1 out of 18   Super Area        Sector 3, Dhaka   \n",
            "26    1  37000  2380    4 out of 4  Carpet Area    Sector 46, Rajshahi   \n",
            "27    2  16322   557   4 out of 12   Build Area  Sector 26, Chattogram   \n",
            "28    2  24578  1019    2 out of 7   Build Area   Sector 6, Chattogram   \n",
            "29    2   8143  1647   0 out of 18   Super Area      Sector 41, Khulna   \n",
            "30    4  44078   711    3 out of 7   Build Area    Sector 45, Rajshahi   \n",
            "31    5  40455   665  10 out of 19   Build Area     Sector 1, Rajshahi   \n",
            "32    1  12897  1741   8 out of 19   Build Area  Sector 41, Chattogram   \n",
            "33    5  34051   954    2 out of 6   Build Area      Sector 40, Sylhet   \n",
            "34    1   7134  1341    5 out of 3   Build Area       Sector 7, Khulna   \n",
            "35    5  21853  2941   1 out of 19   Super Area    Sector 38, Rajshahi   \n",
            "36    3  38480  1715    9 out of 7   Super Area       Sector 42, Dhaka   \n",
            "37    2  23393  1632   9 out of 13   Build Area      Sector 12, Sylhet   \n",
            "38    5  43658  1266    1 out of 7   Build Area       Sector 26, Dhaka   \n",
            "39    2  11029   710   9 out of 16  Carpet Area       Sector 46, Dhaka   \n",
            "40    3  11169   854   7 out of 20   Super Area       Sector 5, Sylhet   \n",
            "41    3  18992   934   6 out of 20   Super Area      Sector 42, Khulna   \n",
            "42    2  25025  2798   7 out of 10   Build Area    Sector 40, Rajshahi   \n",
            "43    2  17184   586   1 out of 12   Build Area    Sector 42, Rajshahi   \n",
            "44    3   5145  1127   10 out of 5  Carpet Area   Sector 3, Chattogram   \n",
            "45    3  32736  1595    9 out of 8   Super Area     Sector 9, Rajshahi   \n",
            "46    2  15876  1147   9 out of 12  Carpet Area       Sector 3, Khulna   \n",
            "47    4  12253  1180    8 out of 6   Super Area       Sector 27, Dhaka   \n",
            "48    3   9552  2143   7 out of 11   Build Area      Sector 17, Khulna   \n",
            "49    4  13767  2451   5 out of 17  Carpet Area       Sector 7, Sylhet   \n",
            "\n",
            "          City Furnishing Status Tenant Preferred  Bathroom Point of Contact  \n",
            "0       Khulna    Semi-Furnished          Company         2          Builder  \n",
            "1       Sylhet       Unfurnished          Company         3          Builder  \n",
            "2       Khulna    Semi-Furnished           Family         2          Builder  \n",
            "3       Khulna    Semi-Furnished          Company         2            Agent  \n",
            "4   Chattogram       Unfurnished          Company         2          Builder  \n",
            "5   Chattogram    Semi-Furnished           Family         3            Owner  \n",
            "6     Rajshahi         Furnished           Family         2          Builder  \n",
            "7       Khulna         Furnished          Company         1            Owner  \n",
            "8        Dhaka    Semi-Furnished           Family         4            Owner  \n",
            "9     Rajshahi    Semi-Furnished         Bachelor         4            Agent  \n",
            "10       Dhaka         Furnished          Company         2            Agent  \n",
            "11  Chattogram       Unfurnished           Family         4            Owner  \n",
            "12  Chattogram         Furnished          Company         3          Builder  \n",
            "13      Sylhet       Unfurnished          Company         4          Builder  \n",
            "14      Sylhet    Semi-Furnished           Family         1            Owner  \n",
            "15    Rajshahi       Unfurnished           Family         1            Owner  \n",
            "16  Chattogram    Semi-Furnished           Family         2            Agent  \n",
            "17  Chattogram       Unfurnished           Family         1            Owner  \n",
            "18      Khulna         Furnished         Bachelor         3          Builder  \n",
            "19       Dhaka    Semi-Furnished          Company         3            Agent  \n",
            "20    Rajshahi       Unfurnished         Bachelor         4            Owner  \n",
            "21      Sylhet       Unfurnished         Bachelor         4          Builder  \n",
            "22  Chattogram         Furnished          Company         1            Owner  \n",
            "23    Rajshahi         Furnished          Company         1          Builder  \n",
            "24      Khulna         Furnished          Company         3          Builder  \n",
            "25      Khulna         Furnished           Family         1            Agent  \n",
            "26      Khulna       Unfurnished          Company         3            Agent  \n",
            "27    Rajshahi         Furnished          Company         3            Owner  \n",
            "28      Sylhet         Furnished         Bachelor         3          Builder  \n",
            "29  Chattogram    Semi-Furnished         Bachelor         1          Builder  \n",
            "30       Dhaka         Furnished         Bachelor         4            Owner  \n",
            "31      Khulna    Semi-Furnished          Company         2            Owner  \n",
            "32       Dhaka         Furnished         Bachelor         2          Builder  \n",
            "33      Sylhet    Semi-Furnished          Company         3            Agent  \n",
            "34      Sylhet         Furnished          Company         2          Builder  \n",
            "35  Chattogram         Furnished          Company         1            Agent  \n",
            "36  Chattogram       Unfurnished           Family         1            Owner  \n",
            "37  Chattogram       Unfurnished          Company         1          Builder  \n",
            "38      Khulna       Unfurnished           Family         1            Agent  \n",
            "39       Dhaka         Furnished           Family         1          Builder  \n",
            "40       Dhaka       Unfurnished          Company         2          Builder  \n",
            "41      Sylhet    Semi-Furnished           Family         4            Owner  \n",
            "42      Khulna    Semi-Furnished         Bachelor         4            Agent  \n",
            "43  Chattogram    Semi-Furnished           Family         2            Agent  \n",
            "44  Chattogram    Semi-Furnished          Company         4            Owner  \n",
            "45      Khulna         Furnished           Family         1          Builder  \n",
            "46      Khulna       Unfurnished         Bachelor         3            Agent  \n",
            "47       Dhaka         Furnished           Family         1            Agent  \n",
            "48  Chattogram       Unfurnished          Company         4            Agent  \n",
            "49      Khulna         Furnished           Family         2            Owner  \n"
          ]
        }
      ]
    },
    {
      "cell_type": "code",
      "source": [
        "df_filled = df.fillna(df.mean(numeric_only=True))  # Fill empty numeric fields with the average\n",
        "print(df_filled.head(50))  # Print 50 rows after filling missing values\n"
      ],
      "metadata": {
        "id": "FSv2iI50Q4tA",
        "outputId": "a0f8b90b-3a54-4510-addd-ca88437e925d",
        "colab": {
          "base_uri": "https://localhost:8080/"
        }
      },
      "execution_count": null,
      "outputs": [
        {
          "output_type": "stream",
          "name": "stdout",
          "text": [
            "    BHK   Rent  Size         Floor    Area Type          Area Locality  \\\n",
            "0     1   6561   846    5 out of 2   Build Area       Sector 11, Dhaka   \n",
            "1     5  46145  1482    8 out of 2   Build Area      Sector 37, Sylhet   \n",
            "2     5  14317  1170   10 out of 7  Carpet Area      Sector 41, Sylhet   \n",
            "3     4   9091  2013   7 out of 11   Build Area  Sector 38, Chattogram   \n",
            "4     2  27281  2728   6 out of 13  Carpet Area   Sector 4, Chattogram   \n",
            "5     5  15484  2797   9 out of 10   Build Area      Sector 19, Sylhet   \n",
            "6     3  36198  2820    2 out of 8  Carpet Area       Sector 28, Dhaka   \n",
            "7     3  36793  2532    6 out of 8   Build Area      Sector 17, Sylhet   \n",
            "8     3  11674  1739   3 out of 18   Build Area       Sector 44, Dhaka   \n",
            "9     5  48721   806    4 out of 4  Carpet Area    Sector 10, Rajshahi   \n",
            "10    2  10529  1678   6 out of 11   Super Area    Sector 43, Rajshahi   \n",
            "11    3  12634   878  10 out of 14   Super Area      Sector 35, Sylhet   \n",
            "12    2  42024  1075   1 out of 16   Build Area      Sector 22, Khulna   \n",
            "13    4   7261  1365    4 out of 9  Carpet Area  Sector 21, Chattogram   \n",
            "14    3  30082  2240   8 out of 11   Super Area       Sector 46, Dhaka   \n",
            "15    1  18823  1671    9 out of 6   Build Area    Sector 20, Rajshahi   \n",
            "16    1  35600  2636    2 out of 7   Super Area      Sector 12, Sylhet   \n",
            "17    1  36153   808   7 out of 13   Super Area    Sector 35, Rajshahi   \n",
            "18    5  12699  1172    4 out of 8  Carpet Area  Sector 17, Chattogram   \n",
            "19    2  18700  2283  10 out of 14   Super Area    Sector 42, Rajshahi   \n",
            "20    5  21038  2791   4 out of 15   Build Area      Sector 40, Khulna   \n",
            "21    1  39233  2139   5 out of 11   Build Area     Sector 4, Rajshahi   \n",
            "22    5  38613   618    9 out of 7   Super Area      Sector 50, Khulna   \n",
            "23    4   8292  2455   6 out of 19   Super Area      Sector 20, Sylhet   \n",
            "24    2  34539   688    2 out of 7   Build Area    Sector 21, Rajshahi   \n",
            "25    1  13907  2364   1 out of 18   Super Area        Sector 3, Dhaka   \n",
            "26    1  37000  2380    4 out of 4  Carpet Area    Sector 46, Rajshahi   \n",
            "27    2  16322   557   4 out of 12   Build Area  Sector 26, Chattogram   \n",
            "28    2  24578  1019    2 out of 7   Build Area   Sector 6, Chattogram   \n",
            "29    2   8143  1647   0 out of 18   Super Area      Sector 41, Khulna   \n",
            "30    4  44078   711    3 out of 7   Build Area    Sector 45, Rajshahi   \n",
            "31    5  40455   665  10 out of 19   Build Area     Sector 1, Rajshahi   \n",
            "32    1  12897  1741   8 out of 19   Build Area  Sector 41, Chattogram   \n",
            "33    5  34051   954    2 out of 6   Build Area      Sector 40, Sylhet   \n",
            "34    1   7134  1341    5 out of 3   Build Area       Sector 7, Khulna   \n",
            "35    5  21853  2941   1 out of 19   Super Area    Sector 38, Rajshahi   \n",
            "36    3  38480  1715    9 out of 7   Super Area       Sector 42, Dhaka   \n",
            "37    2  23393  1632   9 out of 13   Build Area      Sector 12, Sylhet   \n",
            "38    5  43658  1266    1 out of 7   Build Area       Sector 26, Dhaka   \n",
            "39    2  11029   710   9 out of 16  Carpet Area       Sector 46, Dhaka   \n",
            "40    3  11169   854   7 out of 20   Super Area       Sector 5, Sylhet   \n",
            "41    3  18992   934   6 out of 20   Super Area      Sector 42, Khulna   \n",
            "42    2  25025  2798   7 out of 10   Build Area    Sector 40, Rajshahi   \n",
            "43    2  17184   586   1 out of 12   Build Area    Sector 42, Rajshahi   \n",
            "44    3   5145  1127   10 out of 5  Carpet Area   Sector 3, Chattogram   \n",
            "45    3  32736  1595    9 out of 8   Super Area     Sector 9, Rajshahi   \n",
            "46    2  15876  1147   9 out of 12  Carpet Area       Sector 3, Khulna   \n",
            "47    4  12253  1180    8 out of 6   Super Area       Sector 27, Dhaka   \n",
            "48    3   9552  2143   7 out of 11   Build Area      Sector 17, Khulna   \n",
            "49    4  13767  2451   5 out of 17  Carpet Area       Sector 7, Sylhet   \n",
            "\n",
            "          City Furnishing Status Tenant Preferred  Bathroom Point of Contact  \n",
            "0       Khulna    Semi-Furnished          Company         2          Builder  \n",
            "1       Sylhet       Unfurnished          Company         3          Builder  \n",
            "2       Khulna    Semi-Furnished           Family         2          Builder  \n",
            "3       Khulna    Semi-Furnished          Company         2            Agent  \n",
            "4   Chattogram       Unfurnished          Company         2          Builder  \n",
            "5   Chattogram    Semi-Furnished           Family         3            Owner  \n",
            "6     Rajshahi         Furnished           Family         2          Builder  \n",
            "7       Khulna         Furnished          Company         1            Owner  \n",
            "8        Dhaka    Semi-Furnished           Family         4            Owner  \n",
            "9     Rajshahi    Semi-Furnished         Bachelor         4            Agent  \n",
            "10       Dhaka         Furnished          Company         2            Agent  \n",
            "11  Chattogram       Unfurnished           Family         4            Owner  \n",
            "12  Chattogram         Furnished          Company         3          Builder  \n",
            "13      Sylhet       Unfurnished          Company         4          Builder  \n",
            "14      Sylhet    Semi-Furnished           Family         1            Owner  \n",
            "15    Rajshahi       Unfurnished           Family         1            Owner  \n",
            "16  Chattogram    Semi-Furnished           Family         2            Agent  \n",
            "17  Chattogram       Unfurnished           Family         1            Owner  \n",
            "18      Khulna         Furnished         Bachelor         3          Builder  \n",
            "19       Dhaka    Semi-Furnished          Company         3            Agent  \n",
            "20    Rajshahi       Unfurnished         Bachelor         4            Owner  \n",
            "21      Sylhet       Unfurnished         Bachelor         4          Builder  \n",
            "22  Chattogram         Furnished          Company         1            Owner  \n",
            "23    Rajshahi         Furnished          Company         1          Builder  \n",
            "24      Khulna         Furnished          Company         3          Builder  \n",
            "25      Khulna         Furnished           Family         1            Agent  \n",
            "26      Khulna       Unfurnished          Company         3            Agent  \n",
            "27    Rajshahi         Furnished          Company         3            Owner  \n",
            "28      Sylhet         Furnished         Bachelor         3          Builder  \n",
            "29  Chattogram    Semi-Furnished         Bachelor         1          Builder  \n",
            "30       Dhaka         Furnished         Bachelor         4            Owner  \n",
            "31      Khulna    Semi-Furnished          Company         2            Owner  \n",
            "32       Dhaka         Furnished         Bachelor         2          Builder  \n",
            "33      Sylhet    Semi-Furnished          Company         3            Agent  \n",
            "34      Sylhet         Furnished          Company         2          Builder  \n",
            "35  Chattogram         Furnished          Company         1            Agent  \n",
            "36  Chattogram       Unfurnished           Family         1            Owner  \n",
            "37  Chattogram       Unfurnished          Company         1          Builder  \n",
            "38      Khulna       Unfurnished           Family         1            Agent  \n",
            "39       Dhaka         Furnished           Family         1          Builder  \n",
            "40       Dhaka       Unfurnished          Company         2          Builder  \n",
            "41      Sylhet    Semi-Furnished           Family         4            Owner  \n",
            "42      Khulna    Semi-Furnished         Bachelor         4            Agent  \n",
            "43  Chattogram    Semi-Furnished           Family         2            Agent  \n",
            "44  Chattogram    Semi-Furnished          Company         4            Owner  \n",
            "45      Khulna         Furnished           Family         1          Builder  \n",
            "46      Khulna       Unfurnished         Bachelor         3            Agent  \n",
            "47       Dhaka         Furnished           Family         1            Agent  \n",
            "48  Chattogram       Unfurnished          Company         4            Agent  \n",
            "49      Khulna         Furnished           Family         2            Owner  \n"
          ]
        }
      ]
    }
  ]
}